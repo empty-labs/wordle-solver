{
 "cells": [
  {
   "cell_type": "code",
   "execution_count": null,
   "id": "bc64adf6",
   "metadata": {},
   "outputs": [],
   "source": [
    "# Local packages\n",
    "import Tools.convert_words_to_txt as wdtxt"
   ]
  },
  {
   "cell_type": "markdown",
   "id": "fa56aafc-e746-4394-98a7-b9f6b2ff03e3",
   "metadata": {},
   "source": [
    "# Create Wordle Word Lists"
   ]
  },
  {
   "cell_type": "code",
   "execution_count": null,
   "id": "92f1945f",
   "metadata": {},
   "outputs": [],
   "source": [
    "# Update 5-letter Wordle words and most frequent words list\n",
    "# Update filepaths as necessary when compiling new words list\n",
    "\n",
    "wordle_words_filepath = r\"Data/Active/new_wordle_words.txt\"\n",
    "top_wordle_words_filepath = r\"Data/Active/new_frequent_wordle_words.txt\"\n",
    "\n",
    "wdtxt.convert_to_txt(wordle_words_filepath=wordle_words_filepath,\n",
    "                     top_wordle_words_filepath=top_wordle_words_filepath)"
   ]
  },
  {
   "cell_type": "code",
   "execution_count": null,
   "id": "a06d67ec",
   "metadata": {},
   "outputs": [],
   "source": []
  }
 ],
 "metadata": {
  "kernelspec": {
   "display_name": "Python 3 (ipykernel)",
   "language": "python",
   "name": "python3"
  },
  "language_info": {
   "codemirror_mode": {
    "name": "ipython",
    "version": 3
   },
   "file_extension": ".py",
   "mimetype": "text/x-python",
   "name": "python",
   "nbconvert_exporter": "python",
   "pygments_lexer": "ipython3",
   "version": "3.10.16"
  }
 },
 "nbformat": 4,
 "nbformat_minor": 5
}
