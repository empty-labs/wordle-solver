{
 "cells": [
  {
   "cell_type": "code",
   "execution_count": 1,
   "id": "bc64adf6",
   "metadata": {},
   "outputs": [],
   "source": [
    "# Local packages\n",
    "import convert_words_to_txt as wdtxt\n",
    "import wordle_utils as wu"
   ]
  },
  {
   "cell_type": "code",
   "execution_count": 2,
   "id": "92f1945f",
   "metadata": {},
   "outputs": [],
   "source": [
    "wordle_words_filepath = 'active_data/wordle_words_new.txt'\n",
    "top_wordle_words_filepath = 'active_data/frequent_wordle_words_new.txt'\n",
    "wdtxt.convert_to_txt(wordle_words_filepath=wordle_words_filepath,\n",
    "                     top_wordle_words_filepath=top_wordle_words_filepath)"
   ]
  },
  {
   "cell_type": "code",
   "execution_count": null,
   "id": "a06d67ec",
   "metadata": {},
   "outputs": [],
   "source": []
  }
 ],
 "metadata": {
  "kernelspec": {
   "display_name": "Python 3 (ipykernel)",
   "language": "python",
   "name": "python3"
  },
  "language_info": {
   "codemirror_mode": {
    "name": "ipython",
    "version": 3
   },
   "file_extension": ".py",
   "mimetype": "text/x-python",
   "name": "python",
   "nbconvert_exporter": "python",
   "pygments_lexer": "ipython3",
   "version": "3.11.5"
  }
 },
 "nbformat": 4,
 "nbformat_minor": 5
}
