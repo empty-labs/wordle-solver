{
 "cells": [
  {
   "cell_type": "code",
   "execution_count": null,
   "id": "e970a9b3",
   "metadata": {},
   "outputs": [],
   "source": [
    "# Local packages\n",
    "import wordle_data as wd\n",
    "import wordle_utils as wu"
   ]
  },
  {
   "cell_type": "code",
   "execution_count": null,
   "id": "58dad7ea",
   "metadata": {},
   "outputs": [],
   "source": [
    "# Clue = OWNER\n",
    "wdl = wd.Wordle()\n",
    "wdl.set_data()\n",
    "\n",
    "wdl.wordle_guess(guess_word='pound',\n",
    "                 good_letters=['o', 'n'],\n",
    "                 good_letters_bad_placement=[1, 3])\n",
    "wu.wordle_solver(wordle=wdl)\n",
    "wdl.wordle_guess(guess_word='dawgs',\n",
    "                 good_letters=['w'],\n",
    "                 good_letters_bad_placement=[2])\n",
    "wu.wordle_solver(wordle=wdl)\n",
    "wdl.wordle_guess(guess_word='known',\n",
    "                 good_letters=['n', 'o', 'w', 'n'],\n",
    "                 good_letters_bad_placement=[1, 2, 3, 4])\n",
    "wu.wordle_solver(wordle=wdl)\n",
    "wdl.wordle_guess(guess_word='raven',\n",
    "                 good_letters=['r', 'e', 'n'],\n",
    "                 good_letters_bad_placement=[0, None, 4],\n",
    "                 good_letters_good_placement=[None, 3, None])\n",
    "wu.wordle_solver(wordle=wdl)\n",
    "wdl.wordle_guess(guess_word='owned',\n",
    "                 good_letters=['o', 'w', 'n', 'e'],\n",
    "                 good_letters_good_placement=[0, 1, 2, 3])\n",
    "wu.wordle_solver(wordle=wdl)\n"
   ]
  },
  {
   "cell_type": "code",
   "execution_count": null,
   "id": "24ed4677",
   "metadata": {},
   "outputs": [],
   "source": []
  }
 ],
 "metadata": {
  "kernelspec": {
   "display_name": "Python 3 (ipykernel)",
   "language": "python",
   "name": "python3"
  },
  "language_info": {
   "codemirror_mode": {
    "name": "ipython",
    "version": 3
   },
   "file_extension": ".py",
   "mimetype": "text/x-python",
   "name": "python",
   "nbconvert_exporter": "python",
   "pygments_lexer": "ipython3",
   "version": "3.11.5"
  }
 },
 "nbformat": 4,
 "nbformat_minor": 5
}
