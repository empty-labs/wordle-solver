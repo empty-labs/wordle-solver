{
 "cells": [
  {
   "cell_type": "code",
   "execution_count": 1,
   "id": "e970a9b3",
   "metadata": {},
   "outputs": [],
   "source": [
    "# Local packages\n",
    "import wordle_data as wd\n",
    "import wordle_utils as wu"
   ]
  },
  {
   "cell_type": "code",
   "execution_count": 2,
   "id": "58dad7ea",
   "metadata": {},
   "outputs": [
    {
     "name": "stdout",
     "output_type": "stream",
     "text": [
      "Number of top Wordle words 174\n",
      "Number of eligible Wordle words: 15920\n",
      "\n",
      "Guess: pound\n",
      "Good placement dictionary {}\n",
      "Bad placement dictionary {'o': [1], 'n': [3]}\n",
      "Bad letters ['u', 'p', 'd']\n",
      "\n",
      "Eligible word count: 394\n",
      "Eligible word list:\n",
      " ['aaron', 'aboon', 'acoin', 'acorn', 'acron', 'acton', 'aeron', 'agron', 'ainoi', 'aknow', 'akron', 'almon', 'aloin', 'ambon', 'anabo', 'ancon', 'ancor', 'anglo', 'angor', 'animo', 'anion', 'annot', 'annoy', 'anoas', 'anoia', 'anoil', 'anole', 'anoli', 'anomy', 'anorn', 'anova', 'anton', 'argon', 'arion', 'aroon', 'arson', 'ascon', 'avion', 'axion', 'azlon', 'bacon', 'balon', 'banco', 'banjo', 'baron', 'bason', 'baton', 'benzo', 'beton', 'bingo', 'biron', 'bison', 'blown', 'bonbo', 'bongo', 'bonos', 'boron', 'boson', 'broon', 'brown', 'bryon', 'byron', 'cajon', 'canoe', 'canon', 'canos', 'canso', 'canto', 'canzo', 'caxon', 'cento', 'chron', 'clown', 'cogon', 'colon', 'concn', 'congo', 'conin', 'conor', 'conoy', 'conto', 'croon', 'crown', 'cyton', 'eikon', 'ekron', 'eloin', 'enjoy', 'ennoy', 'enoch', 'enoil', 'enols', 'enorm', 'enorn', 'enows', 'enrol', 'entom', 'envoi', 'envoy', 'ergon', 'erron', 'eryon', 'exion', 'exxon', 'fango', 'fanon', 'fanos', 'felon', 'flown', 'fogon', 'freon', 'frown', 'gabon', 'ganof', 'garon', 'gazon', 'genio', 'genoa', 'genom', 'genos', 'genro', 'ginzo', 'giron', 'gnoff', 'gnome', 'gonof', 'gonzo', 'groan', 'groin', 'grown', 'gyron', 'hanoi', 'heron', 'honan', 'honor', 'honzo', 'hyson', 'ileon', 'ilion', 'inbow', 'incog', 'incor', 'infos', 'ingot', 'inigo', 'inion', 'inkos', 'inoma', 'inone', 'inorb', 'inorg', 'inrol', 'insol', 'intro', 'invoy', 'isoln', 'ixion', 'janos', 'jason', 'jeton', 'jingo', 'jomon', 'kalon', 'kenno', 'kenos', 'kinoo', 'kinos', 'kinot', 'knobs', 'knock', 'knoit', 'knoll', 'knorr', 'knots', 'knowe', 'known', 'knows', 'kongo', 'kroon', 'lanao', 'lango', 'laron', 'laton', 'lemon', 'lenos', 'lento', 'lingo', 'linon', 'linos', 'macon', 'mango', 'manoc', 'manor', 'manos', 'manso', 'manto', 'mason', 'mecon', 'melon', 'menow', 'meson', 'mingo', 'minor', 'minos', 'minot', 'minow', 'mongo', 'monos', 'moorn', 'moron', 'moton', 'myron', 'nabob', 'nacho', 'nagor', 'nahor', 'nakoo', 'nammo', 'naomi', 'naoto', 'narco', 'nawob', 'necro', 'negro', 'nemos', 'neons', 'neoza', 'nerol', 'nevoy', 'ngaio', 'ngoko', 'ngoma', 'nicol', 'nikko', 'nikon', 'nilot', 'ninon', 'ninos', 'ninox', 'niobe', 'niota', 'niton', 'nitos', 'nitro', 'nixon', 'nohow', 'nolos', 'nomen', 'nomoi', 'nomos', 'nonas', 'nonce', 'nones', 'nonet', 'nonic', 'nonly', 'nonny', 'nonya', 'nonyl', 'nooks', 'nooky', 'noons', 'noose', 'notan', 'nylon', 'nyoro', 'oaken', 'oaten', 'ocean', 'octan', 'oenin', 'often', 'ohone', 'oinks', 'oisin', 'olein', 'olona', 'olson', 'omnes', 'oncer', 'onces', 'oncet', 'oncia', 'oncin', 'onery', 'onion', 'onker', 'onkos', 'onlay', 'onset', 'ontal', 'ontic', 'onymy', 'oraon', 'orcin', 'organ', 'orion', 'orlon', 'ornes', 'ornis', 'orson', 'oscan', 'oscin', 'osmin', 'osone', 'othin', 'otkon', 'owner', 'owsen', 'oxman', 'ozone', 'racon', 'ramon', 'rason', 'rayon', 'recon', 'reown', 'rewon', 'ronco', 'ronin', 'salon', 'santo', 'saron', 'saxon', 'scion', 'scoon', 'scorn', 'senor', 'senso', 'seron', 'seton', 'shoon', 'shorn', 'shown', 'simon', 'sinon', 'sinto', 'sloan', 'snobs', 'snock', 'snoek', 'snoga', 'snoke', 'snook', 'snool', 'snoot', 'snore', 'snork', 'snort', 'snots', 'snowk', 'snowl', 'snows', 'snowy', 'solon', 'songo', 'stion', 'stoon', 'swoln', 'swoon', 'sworn', 'sycon', 'talon', 'tango', 'tanoa', 'tanto', 'taxon', 'tecon', 'tejon', 'tenio', 'tenno', 'tenon', 'tenor', 'tenso', 'teton', 'thorn', 'tigon', 'timon', 'tonto', 'toxon', 'toyon', 'venom', 'vinos', 'viron', 'vison', 'wagon', 'wakon', 'winos', 'wyson', 'xenon', 'xenos', 'xylon', 'zinco', 'zygon']\n",
      "Top eligible word list:\n",
      "1-80.) minor\n",
      "2-168.) grown\n",
      "\n",
      "Guess: dawgs\n",
      "Good placement dictionary {}\n",
      "Bad placement dictionary {'o': [1], 'n': [3], 'w': [2]}\n",
      "Bad letters ['a', 'g', 'u', 'd', 'p', 's']\n",
      "\n",
      "Eligible word count: 14\n",
      "Eligible word list:\n",
      " ['blown', 'brown', 'clown', 'crown', 'flown', 'frown', 'inbow', 'knowe', 'known', 'menow', 'minow', 'nohow', 'owner', 'reown']\n",
      "\n",
      "Guess: known\n",
      "Good placement dictionary {}\n",
      "Bad placement dictionary {'o': [1, 2], 'n': [3, 1, 4], 'w': [2, 3]}\n",
      "Bad letters ['a', 'g', 'u', 'd', 'p', 'k', 's']\n",
      "\n",
      "Eligible word count: 4\n",
      "Eligible word list:\n",
      " ['menow', 'minow', 'nohow', 'owner']\n",
      "\n",
      "Guess: raven\n",
      "Good placement dictionary {'e': [3]}\n",
      "Bad placement dictionary {'o': [1, 2], 'n': [3, 1, 4, 4], 'w': [2, 3], 'r': [0]}\n",
      "Bad letters ['a', 'g', 'u', 'd', 'p', 'v', 'k', 's']\n",
      "\n",
      "Eligible word count: 1\n",
      "Eligible word list:\n",
      " ['owner']\n",
      "\n",
      "Guess: owned\n",
      "Good placement dictionary {'e': [3, 3], 'o': [0], 'w': [1], 'n': [2]}\n",
      "Bad placement dictionary {'o': [1, 2], 'n': [3, 1, 4, 4], 'w': [2, 3], 'r': [0]}\n",
      "Bad letters ['a', 'g', 'u', 'd', 'p', 'v', 'k', 's']\n",
      "\n",
      "Eligible word count: 1\n",
      "Eligible word list:\n",
      " ['owner']\n"
     ]
    }
   ],
   "source": [
    "# Clue = OWNER\n",
    "wdl = wd.Wordle()\n",
    "wdl.set_data()\n",
    "\n",
    "wdl.wordle_guess(guess_word='pound',\n",
    "                 good_letters=['o', 'n'],\n",
    "                 good_letters_bad_placement=[1, 3])\n",
    "wu.wordle_solver(wordle=wdl)\n",
    "wdl.wordle_guess(guess_word='dawgs',\n",
    "                 good_letters=['w'],\n",
    "                 good_letters_bad_placement=[2])\n",
    "wu.wordle_solver(wordle=wdl)\n",
    "wdl.wordle_guess(guess_word='known',\n",
    "                 good_letters=['n', 'o', 'w', 'n'],\n",
    "                 good_letters_bad_placement=[1, 2, 3, 4])\n",
    "wu.wordle_solver(wordle=wdl)\n",
    "wdl.wordle_guess(guess_word='raven',\n",
    "                 good_letters=['r', 'e', 'n'],\n",
    "                 good_letters_bad_placement=[0, None, 4],\n",
    "                 good_letters_good_placement=[None, 3, None])\n",
    "wu.wordle_solver(wordle=wdl)\n",
    "wdl.wordle_guess(guess_word='owned',\n",
    "                 good_letters=['o', 'w', 'n', 'e'],\n",
    "                 good_letters_good_placement=[0, 1, 2, 3])\n",
    "wu.wordle_solver(wordle=wdl)\n"
   ]
  },
  {
   "cell_type": "code",
   "execution_count": null,
   "id": "24ed4677",
   "metadata": {},
   "outputs": [],
   "source": []
  }
 ],
 "metadata": {
  "kernelspec": {
   "display_name": "Python 3 (ipykernel)",
   "language": "python",
   "name": "python3"
  },
  "language_info": {
   "codemirror_mode": {
    "name": "ipython",
    "version": 3
   },
   "file_extension": ".py",
   "mimetype": "text/x-python",
   "name": "python",
   "nbconvert_exporter": "python",
   "pygments_lexer": "ipython3",
   "version": "3.11.5"
  }
 },
 "nbformat": 4,
 "nbformat_minor": 5
}
